{
 "cells": [
  {
   "cell_type": "markdown",
   "metadata": {
    "_cell_guid": "ddf6b245-75fc-4f54-aa4b-be711b21870e",
    "_uuid": "a70f0d674af7c2bff498c88a2d7efb8e4fbf3c3a"
   },
   "source": [
    "![](https://www.listchallenges.com/f/lists/6c536c33-489b-4bee-b259-00074fa53a0d.jpg)"
   ]
  },
  {
   "cell_type": "markdown",
   "metadata": {
    "_cell_guid": "3886d882-4372-4b98-969d-2477992d8518",
    "_uuid": "ba867822cc93cbc6d720a4c953e700566cd3f927"
   },
   "source": [
    "# More To Come. Stay Tuned. !!\n",
    "If there are any suggestions/changes you would like to see in the Kernel please let me know :). Appreciate every ounce of help!\n",
    "\n",
    "**This notebook will always be a work in progress**. Please leave any comments about further improvements to the notebook! Any feedback or constructive criticism is greatly appreciated!.** If you like it or it helps you , you can upvote and/or leave a comment :).**"
   ]
  },
  {
   "cell_type": "code",
   "execution_count": 1,
   "metadata": {
    "_cell_guid": "f364fdde-e36a-4174-9c06-78cbd8335adc",
    "_uuid": "f7f28a48d8f0bde22537850718f24d32fd58fc93",
    "collapsed": true
   },
   "outputs": [],
   "source": [
    "# This Python 3 environment comes with many helpful analytics libraries installed\n",
    "# It is defined by the kaggle/python docker image: https://github.com/kaggle/docker-python\n",
    "# For example, here's several helpful packages to load in \n",
    "\n",
    "import numpy as np # linear algebra\n",
    "import pandas as pd # data processing, CSV file I/O (e.g. pd.read_csv)\n",
    "import matplotlib.pyplot as plt\n",
    "import seaborn as sns\n",
    "%matplotlib inline \n",
    "\n",
    "\n"
   ]
  },
  {
   "cell_type": "markdown",
   "metadata": {
    "_cell_guid": "d9477a72-1c5a-4757-9133-fe01c349bbb3",
    "_uuid": "da04ec23114eeb4dafbcd6320078c46900a27841"
   },
   "source": [
    "# More is coming Soon"
   ]
  },
  {
   "cell_type": "code",
   "execution_count": 3,
   "metadata": {
    "_cell_guid": "dfb76559-6378-481d-b020-211426aadd26",
    "_uuid": "d7ff80730ceb6d5955f9e3aa912c36e834d204d4"
   },
   "outputs": [],
   "source": [
    "train_data = pd.read_csv('./input/train.csv')\n",
    "test_data = pd.read_csv('./input/test.csv')\n",
    "submission = pd.read_csv(\"./input/sample_submission.csv\")"
   ]
  },
  {
   "cell_type": "code",
   "execution_count": 4,
   "metadata": {
    "_cell_guid": "6962e319-ab33-4d25-ae7e-115f12404e2f",
    "_uuid": "444e66a220029230543b5504ff654ed021c9831c"
   },
   "outputs": [
    {
     "name": "stdout",
     "output_type": "stream",
     "text": [
      "Training data size (1225029, 3)\n",
      "test data size (117703, 2)\n"
     ]
    },
    {
     "data": {
      "text/html": [
       "<div>\n",
       "<style>\n",
       "    .dataframe thead tr:only-child th {\n",
       "        text-align: right;\n",
       "    }\n",
       "\n",
       "    .dataframe thead th {\n",
       "        text-align: left;\n",
       "    }\n",
       "\n",
       "    .dataframe tbody tr th {\n",
       "        vertical-align: top;\n",
       "    }\n",
       "</style>\n",
       "<table border=\"1\" class=\"dataframe\">\n",
       "  <thead>\n",
       "    <tr style=\"text-align: right;\">\n",
       "      <th></th>\n",
       "      <th>id</th>\n",
       "      <th>landmarks</th>\n",
       "    </tr>\n",
       "  </thead>\n",
       "  <tbody>\n",
       "    <tr>\n",
       "      <th>0</th>\n",
       "      <td>000088da12d664db</td>\n",
       "      <td>8815 0.03</td>\n",
       "    </tr>\n",
       "    <tr>\n",
       "      <th>1</th>\n",
       "      <td>0001623c6d808702</td>\n",
       "      <td>7249 0.61</td>\n",
       "    </tr>\n",
       "    <tr>\n",
       "      <th>2</th>\n",
       "      <td>0001bbb682d45002</td>\n",
       "      <td>5328 0.5</td>\n",
       "    </tr>\n",
       "    <tr>\n",
       "      <th>3</th>\n",
       "      <td>0002362830cfe3a3</td>\n",
       "      <td>4188 0.96</td>\n",
       "    </tr>\n",
       "    <tr>\n",
       "      <th>4</th>\n",
       "      <td>000270c9100de789</td>\n",
       "      <td>10506 0.82</td>\n",
       "    </tr>\n",
       "  </tbody>\n",
       "</table>\n",
       "</div>"
      ],
      "text/plain": [
       "                 id   landmarks\n",
       "0  000088da12d664db   8815 0.03\n",
       "1  0001623c6d808702   7249 0.61\n",
       "2  0001bbb682d45002    5328 0.5\n",
       "3  0002362830cfe3a3   4188 0.96\n",
       "4  000270c9100de789  10506 0.82"
      ]
     },
     "execution_count": 4,
     "metadata": {},
     "output_type": "execute_result"
    }
   ],
   "source": [
    "print(\"Training data size\",train_data.shape)\n",
    "print(\"test data size\",test_data.shape)\n",
    "submission.head()"
   ]
  },
  {
   "cell_type": "code",
   "execution_count": 5,
   "metadata": {
    "_cell_guid": "3db5848a-9908-4e4c-b2f1-54ca92bc87dc",
    "_uuid": "34e47d36489f424ba05b6ee1c82c894df492a808"
   },
   "outputs": [
    {
     "data": {
      "text/html": [
       "<div>\n",
       "<style>\n",
       "    .dataframe thead tr:only-child th {\n",
       "        text-align: right;\n",
       "    }\n",
       "\n",
       "    .dataframe thead th {\n",
       "        text-align: left;\n",
       "    }\n",
       "\n",
       "    .dataframe tbody tr th {\n",
       "        vertical-align: top;\n",
       "    }\n",
       "</style>\n",
       "<table border=\"1\" class=\"dataframe\">\n",
       "  <thead>\n",
       "    <tr style=\"text-align: right;\">\n",
       "      <th></th>\n",
       "      <th>id</th>\n",
       "      <th>url</th>\n",
       "      <th>landmark_id</th>\n",
       "    </tr>\n",
       "  </thead>\n",
       "  <tbody>\n",
       "    <tr>\n",
       "      <th>0</th>\n",
       "      <td>cacf8152e2d2ae60</td>\n",
       "      <td>http://static.panoramio.com/photos/original/70...</td>\n",
       "      <td>4676</td>\n",
       "    </tr>\n",
       "    <tr>\n",
       "      <th>1</th>\n",
       "      <td>0a58358a2afd3e4e</td>\n",
       "      <td>http://lh6.ggpht.com/-igpT6wu0mIA/ROV8HnUuABI/...</td>\n",
       "      <td>6651</td>\n",
       "    </tr>\n",
       "    <tr>\n",
       "      <th>2</th>\n",
       "      <td>6b2bb500b6a38aa0</td>\n",
       "      <td>http://lh6.ggpht.com/-vKr5G5MEusk/SR6r6SJi6mI/...</td>\n",
       "      <td>11284</td>\n",
       "    </tr>\n",
       "    <tr>\n",
       "      <th>3</th>\n",
       "      <td>b399f09dee9c3c67</td>\n",
       "      <td>https://lh3.googleusercontent.com/-LOW2cjAqubA...</td>\n",
       "      <td>8429</td>\n",
       "    </tr>\n",
       "    <tr>\n",
       "      <th>4</th>\n",
       "      <td>19ace29d77a5be66</td>\n",
       "      <td>https://lh5.googleusercontent.com/-tnmSXwQcWL8...</td>\n",
       "      <td>6231</td>\n",
       "    </tr>\n",
       "  </tbody>\n",
       "</table>\n",
       "</div>"
      ],
      "text/plain": [
       "                 id                                                url  \\\n",
       "0  cacf8152e2d2ae60  http://static.panoramio.com/photos/original/70...   \n",
       "1  0a58358a2afd3e4e  http://lh6.ggpht.com/-igpT6wu0mIA/ROV8HnUuABI/...   \n",
       "2  6b2bb500b6a38aa0  http://lh6.ggpht.com/-vKr5G5MEusk/SR6r6SJi6mI/...   \n",
       "3  b399f09dee9c3c67  https://lh3.googleusercontent.com/-LOW2cjAqubA...   \n",
       "4  19ace29d77a5be66  https://lh5.googleusercontent.com/-tnmSXwQcWL8...   \n",
       "\n",
       "   landmark_id  \n",
       "0         4676  \n",
       "1         6651  \n",
       "2        11284  \n",
       "3         8429  \n",
       "4         6231  "
      ]
     },
     "execution_count": 5,
     "metadata": {},
     "output_type": "execute_result"
    }
   ],
   "source": [
    "train_data.head()"
   ]
  },
  {
   "cell_type": "code",
   "execution_count": 6,
   "metadata": {
    "_cell_guid": "750de8f5-77be-4ac1-9019-7c64798f652e",
    "_uuid": "1b36c7ea99bbefd9ec70da7f02f363052b64c9e4"
   },
   "outputs": [
    {
     "data": {
      "text/html": [
       "<div>\n",
       "<style>\n",
       "    .dataframe thead tr:only-child th {\n",
       "        text-align: right;\n",
       "    }\n",
       "\n",
       "    .dataframe thead th {\n",
       "        text-align: left;\n",
       "    }\n",
       "\n",
       "    .dataframe tbody tr th {\n",
       "        vertical-align: top;\n",
       "    }\n",
       "</style>\n",
       "<table border=\"1\" class=\"dataframe\">\n",
       "  <thead>\n",
       "    <tr style=\"text-align: right;\">\n",
       "      <th></th>\n",
       "      <th>id</th>\n",
       "      <th>url</th>\n",
       "    </tr>\n",
       "  </thead>\n",
       "  <tbody>\n",
       "    <tr>\n",
       "      <th>0</th>\n",
       "      <td>000088da12d664db</td>\n",
       "      <td>https://lh3.googleusercontent.com/-k45wfamuhT8...</td>\n",
       "    </tr>\n",
       "    <tr>\n",
       "      <th>1</th>\n",
       "      <td>0001623c6d808702</td>\n",
       "      <td>https://lh3.googleusercontent.com/-OQ0ywv8KVIA...</td>\n",
       "    </tr>\n",
       "    <tr>\n",
       "      <th>2</th>\n",
       "      <td>0001bbb682d45002</td>\n",
       "      <td>https://lh3.googleusercontent.com/-kloLenz1xZk...</td>\n",
       "    </tr>\n",
       "    <tr>\n",
       "      <th>3</th>\n",
       "      <td>0002362830cfe3a3</td>\n",
       "      <td>https://lh3.googleusercontent.com/-N6z79jNZYTg...</td>\n",
       "    </tr>\n",
       "    <tr>\n",
       "      <th>4</th>\n",
       "      <td>000270c9100de789</td>\n",
       "      <td>https://lh3.googleusercontent.com/-keriHaVOq1U...</td>\n",
       "    </tr>\n",
       "  </tbody>\n",
       "</table>\n",
       "</div>"
      ],
      "text/plain": [
       "                 id                                                url\n",
       "0  000088da12d664db  https://lh3.googleusercontent.com/-k45wfamuhT8...\n",
       "1  0001623c6d808702  https://lh3.googleusercontent.com/-OQ0ywv8KVIA...\n",
       "2  0001bbb682d45002  https://lh3.googleusercontent.com/-kloLenz1xZk...\n",
       "3  0002362830cfe3a3  https://lh3.googleusercontent.com/-N6z79jNZYTg...\n",
       "4  000270c9100de789  https://lh3.googleusercontent.com/-keriHaVOq1U..."
      ]
     },
     "execution_count": 6,
     "metadata": {},
     "output_type": "execute_result"
    }
   ],
   "source": [
    "test_data.head()"
   ]
  },
  {
   "cell_type": "code",
   "execution_count": 7,
   "metadata": {
    "_cell_guid": "fe7d8e74-8f39-495b-bf80-f37938e81cfb",
    "_uuid": "fe2f33a910ec28188d208c1e9323a10990ff04de"
   },
   "outputs": [
    {
     "name": "stdout",
     "output_type": "stream",
     "text": [
      "id a6c207c04d7c3835\n",
      "url: https://lh5.googleusercontent.com/-oJsiYZW1JPE/Rnah5Zf5XxI/AAAAAAAAADY/tLtMU5hCdlI/s1600/\n",
      "landmark id: 233\n"
     ]
    }
   ],
   "source": [
    "# now open the URL\n",
    "temp = 4444\n",
    "print('id', train_data['id'][temp])\n",
    "print('url:', train_data['url'][temp])\n",
    "print('landmark id:', train_data['landmark_id'][temp])"
   ]
  },
  {
   "cell_type": "code",
   "execution_count": 8,
   "metadata": {
    "_cell_guid": "05f07b99-e04b-483a-86fd-418001d721a2",
    "_uuid": "495d65d7b58969249284618aa48b655c37b6e4d4"
   },
   "outputs": [
    {
     "data": {
      "text/plain": [
       "<matplotlib.axes._subplots.AxesSubplot at 0x7f9c727c0c18>"
      ]
     },
     "execution_count": 8,
     "metadata": {},
     "output_type": "execute_result"
    },
    {
     "data": {
      "image/png": "[encoded data removed]",
      "text/plain": [
       "<matplotlib.figure.Figure at 0x7f9c744ebda0>"
      ]
     },
     "metadata": {},
     "output_type": "display_data"
    }
   ],
   "source": [
    "train_data['landmark_id'].value_counts().hist()"
   ]
  },
  {
   "cell_type": "code",
   "execution_count": 9,
   "metadata": {
    "_cell_guid": "aef1e276-548b-4a05-bb93-381dd8b13142",
    "_uuid": "92855b6a20e1de24ee4c0786cb78542a81c1f0e7"
   },
   "outputs": [
    {
     "data": {
      "text/html": [
       "<div>\n",
       "<style>\n",
       "    .dataframe thead tr:only-child th {\n",
       "        text-align: right;\n",
       "    }\n",
       "\n",
       "    .dataframe thead th {\n",
       "        text-align: left;\n",
       "    }\n",
       "\n",
       "    .dataframe tbody tr th {\n",
       "        vertical-align: top;\n",
       "    }\n",
       "</style>\n",
       "<table border=\"1\" class=\"dataframe\">\n",
       "  <thead>\n",
       "    <tr style=\"text-align: right;\">\n",
       "      <th></th>\n",
       "      <th>Total</th>\n",
       "      <th>Percent</th>\n",
       "    </tr>\n",
       "  </thead>\n",
       "  <tbody>\n",
       "    <tr>\n",
       "      <th>landmark_id</th>\n",
       "      <td>0</td>\n",
       "      <td>0.0</td>\n",
       "    </tr>\n",
       "    <tr>\n",
       "      <th>url</th>\n",
       "      <td>0</td>\n",
       "      <td>0.0</td>\n",
       "    </tr>\n",
       "    <tr>\n",
       "      <th>id</th>\n",
       "      <td>0</td>\n",
       "      <td>0.0</td>\n",
       "    </tr>\n",
       "  </tbody>\n",
       "</table>\n",
       "</div>"
      ],
      "text/plain": [
       "             Total  Percent\n",
       "landmark_id      0      0.0\n",
       "url              0      0.0\n",
       "id               0      0.0"
      ]
     },
     "execution_count": 9,
     "metadata": {},
     "output_type": "execute_result"
    }
   ],
   "source": [
    "# missing data in training data \n",
    "total = train_data.isnull().sum().sort_values(ascending = False)\n",
    "percent = (train_data.isnull().sum()/train_data.isnull().count()).sort_values(ascending = False)\n",
    "missing_train_data = pd.concat([total, percent], axis=1, keys=['Total', 'Percent'])\n",
    "missing_train_data.head()"
   ]
  },
  {
   "cell_type": "code",
   "execution_count": 10,
   "metadata": {
    "_cell_guid": "50aa5154-a2c8-43be-9c6f-b6a41c107008",
    "_uuid": "0bd1634b846376e2111900b13d9653ec846d16b2"
   },
   "outputs": [
    {
     "data": {
      "text/html": [
       "<div>\n",
       "<style>\n",
       "    .dataframe thead tr:only-child th {\n",
       "        text-align: right;\n",
       "    }\n",
       "\n",
       "    .dataframe thead th {\n",
       "        text-align: left;\n",
       "    }\n",
       "\n",
       "    .dataframe tbody tr th {\n",
       "        vertical-align: top;\n",
       "    }\n",
       "</style>\n",
       "<table border=\"1\" class=\"dataframe\">\n",
       "  <thead>\n",
       "    <tr style=\"text-align: right;\">\n",
       "      <th></th>\n",
       "      <th>Total</th>\n",
       "      <th>Percent</th>\n",
       "    </tr>\n",
       "  </thead>\n",
       "  <tbody>\n",
       "    <tr>\n",
       "      <th>url</th>\n",
       "      <td>0</td>\n",
       "      <td>0.0</td>\n",
       "    </tr>\n",
       "    <tr>\n",
       "      <th>id</th>\n",
       "      <td>0</td>\n",
       "      <td>0.0</td>\n",
       "    </tr>\n",
       "  </tbody>\n",
       "</table>\n",
       "</div>"
      ],
      "text/plain": [
       "     Total  Percent\n",
       "url      0      0.0\n",
       "id       0      0.0"
      ]
     },
     "execution_count": 10,
     "metadata": {},
     "output_type": "execute_result"
    }
   ],
   "source": [
    "# missing data in test data \n",
    "total = test_data.isnull().sum().sort_values(ascending = False)\n",
    "percent = (test_data.isnull().sum()/test_data.isnull().count()).sort_values(ascending = False)\n",
    "missing_test_data = pd.concat([total, percent], axis=1, keys=['Total', 'Percent'])\n",
    "missing_test_data.head()"
   ]
  },
  {
   "cell_type": "markdown",
   "metadata": {
    "_cell_guid": "c495f1f0-1dac-401f-bb12-df07c3fc4436",
    "_uuid": "50dae4816452a5945d289863d27cdf8e73d1b620"
   },
   "source": [
    "## We can see there is no missing data\n",
    "## Now Lets see most frequent Landmarks"
   ]
  },
  {
   "cell_type": "code",
   "execution_count": 15,
   "metadata": {
    "_cell_guid": "c3a7ef6d-c862-413e-af33-49a36b1a5895",
    "_uuid": "ae8cf994baae0b92fe1ca590f36491717ca2399a",
    "scrolled": true
   },
   "outputs": [
    {
     "data": {
      "text/html": [
       "<div>\n",
       "<style>\n",
       "    .dataframe thead tr:only-child th {\n",
       "        text-align: right;\n",
       "    }\n",
       "\n",
       "    .dataframe thead th {\n",
       "        text-align: left;\n",
       "    }\n",
       "\n",
       "    .dataframe tbody tr th {\n",
       "        vertical-align: top;\n",
       "    }\n",
       "</style>\n",
       "<table border=\"1\" class=\"dataframe\">\n",
       "  <thead>\n",
       "    <tr style=\"text-align: right;\">\n",
       "      <th></th>\n",
       "      <th>landmark_id</th>\n",
       "      <th>count</th>\n",
       "    </tr>\n",
       "  </thead>\n",
       "  <tbody>\n",
       "    <tr>\n",
       "      <th>0</th>\n",
       "      <td>9633</td>\n",
       "      <td>50337</td>\n",
       "    </tr>\n",
       "    <tr>\n",
       "      <th>1</th>\n",
       "      <td>6051</td>\n",
       "      <td>50148</td>\n",
       "    </tr>\n",
       "    <tr>\n",
       "      <th>2</th>\n",
       "      <td>6599</td>\n",
       "      <td>23415</td>\n",
       "    </tr>\n",
       "    <tr>\n",
       "      <th>3</th>\n",
       "      <td>9779</td>\n",
       "      <td>18471</td>\n",
       "    </tr>\n",
       "    <tr>\n",
       "      <th>4</th>\n",
       "      <td>2061</td>\n",
       "      <td>13271</td>\n",
       "    </tr>\n",
       "    <tr>\n",
       "      <th>5</th>\n",
       "      <td>5554</td>\n",
       "      <td>11147</td>\n",
       "    </tr>\n",
       "    <tr>\n",
       "      <th>6</th>\n",
       "      <td>6651</td>\n",
       "      <td>9508</td>\n",
       "    </tr>\n",
       "    <tr>\n",
       "      <th>7</th>\n",
       "      <td>6696</td>\n",
       "      <td>9222</td>\n",
       "    </tr>\n",
       "  </tbody>\n",
       "</table>\n",
       "</div>"
      ],
      "text/plain": [
       "   landmark_id  count\n",
       "0         9633  50337\n",
       "1         6051  50148\n",
       "2         6599  23415\n",
       "3         9779  18471\n",
       "4         2061  13271\n",
       "5         5554  11147\n",
       "6         6651   9508\n",
       "7         6696   9222"
      ]
     },
     "execution_count": 15,
     "metadata": {},
     "output_type": "execute_result"
    }
   ],
   "source": [
    "# Occurance of landmark_id in decreasing order(Top categories)\n",
    "temp = pd.DataFrame(train_data.landmark_id.value_counts().head(8))\n",
    "temp.reset_index(inplace=True)\n",
    "temp.columns = ['landmark_id','count']\n",
    "temp"
   ]
  },
  {
   "cell_type": "markdown",
   "metadata": {
    "_cell_guid": "0143ef77-1bc6-4407-b964-67a6bbd0508a",
    "_uuid": "f3cf85f6d6ac6d77b63f21e0a9de0c9fe6f3fc42"
   },
   "source": [
    " ### The most frequent landmark_id is 9633  and the count is 50337."
   ]
  },
  {
   "cell_type": "code",
   "execution_count": 16,
   "metadata": {
    "_cell_guid": "a8db8f45-a88b-466b-b6ba-04da2dcd8a07",
    "_uuid": "8965eaf5e33f4a1f079d6a262795d6590e4ba464"
   },
   "outputs": [
    {
     "data": {
      "image/png": "[encoded data removed]",
      "text/plain": [
       "<matplotlib.figure.Figure at 0x7f9c6ff95240>"
      ]
     },
     "metadata": {},
     "output_type": "display_data"
    }
   ],
   "source": [
    "# Plot the most frequent landmark_ids\n",
    "plt.figure(figsize = (9, 8))\n",
    "plt.title('Most frequent landmarks')\n",
    "sns.set_color_codes(\"pastel\")\n",
    "sns.barplot(x=\"landmark_id\", y=\"count\", data=temp,\n",
    "            label=\"Count\")\n",
    "plt.show()"
   ]
  },
  {
   "cell_type": "markdown",
   "metadata": {
    "_cell_guid": "0035a345-9d95-47c4-91f8-9d2e7b403575",
    "_uuid": "a4bce2c8f98e4235352d9ce50a889615ab3303be"
   },
   "source": [
    "## Lets see least frequent landmarks"
   ]
  },
  {
   "cell_type": "code",
   "execution_count": 17,
   "metadata": {
    "_cell_guid": "4e6eb52b-f678-495d-a41a-fc9039a67787",
    "_uuid": "8d55b0a44a01a5901ac491b5bbc97d9ab7a02cf7"
   },
   "outputs": [
    {
     "data": {
      "text/html": [
       "<div>\n",
       "<style>\n",
       "    .dataframe thead tr:only-child th {\n",
       "        text-align: right;\n",
       "    }\n",
       "\n",
       "    .dataframe thead th {\n",
       "        text-align: left;\n",
       "    }\n",
       "\n",
       "    .dataframe tbody tr th {\n",
       "        vertical-align: top;\n",
       "    }\n",
       "</style>\n",
       "<table border=\"1\" class=\"dataframe\">\n",
       "  <thead>\n",
       "    <tr style=\"text-align: right;\">\n",
       "      <th></th>\n",
       "      <th>landmark_id</th>\n",
       "      <th>count</th>\n",
       "    </tr>\n",
       "  </thead>\n",
       "  <tbody>\n",
       "    <tr>\n",
       "      <th>0</th>\n",
       "      <td>4753</td>\n",
       "      <td>1</td>\n",
       "    </tr>\n",
       "    <tr>\n",
       "      <th>1</th>\n",
       "      <td>6261</td>\n",
       "      <td>1</td>\n",
       "    </tr>\n",
       "    <tr>\n",
       "      <th>2</th>\n",
       "      <td>4144</td>\n",
       "      <td>1</td>\n",
       "    </tr>\n",
       "    <tr>\n",
       "      <th>3</th>\n",
       "      <td>1527</td>\n",
       "      <td>1</td>\n",
       "    </tr>\n",
       "    <tr>\n",
       "      <th>4</th>\n",
       "      <td>6025</td>\n",
       "      <td>1</td>\n",
       "    </tr>\n",
       "    <tr>\n",
       "      <th>5</th>\n",
       "      <td>4334</td>\n",
       "      <td>1</td>\n",
       "    </tr>\n",
       "    <tr>\n",
       "      <th>6</th>\n",
       "      <td>5865</td>\n",
       "      <td>1</td>\n",
       "    </tr>\n",
       "    <tr>\n",
       "      <th>7</th>\n",
       "      <td>8381</td>\n",
       "      <td>1</td>\n",
       "    </tr>\n",
       "  </tbody>\n",
       "</table>\n",
       "</div>"
      ],
      "text/plain": [
       "   landmark_id  count\n",
       "0         4753      1\n",
       "1         6261      1\n",
       "2         4144      1\n",
       "3         1527      1\n",
       "4         6025      1\n",
       "5         4334      1\n",
       "6         5865      1\n",
       "7         8381      1"
      ]
     },
     "execution_count": 17,
     "metadata": {},
     "output_type": "execute_result"
    }
   ],
   "source": [
    "# Occurance of landmark_id in increasing order\n",
    "temp = pd.DataFrame(train_data.landmark_id.value_counts().tail(8))\n",
    "temp.reset_index(inplace=True)\n",
    "temp.columns = ['landmark_id','count']\n",
    "temp"
   ]
  },
  {
   "cell_type": "markdown",
   "metadata": {
    "_cell_guid": "0aeac04f-6a95-4c06-b395-8ee7c1a73102",
    "_uuid": "b2542688db65194fd6e6a9d4087c43c595b062d8"
   },
   "source": [
    "### There are many least frequent landmarks whose count is 1"
   ]
  },
  {
   "cell_type": "code",
   "execution_count": 18,
   "metadata": {
    "_cell_guid": "db14649f-ff5f-48a5-ae36-f7e83581f99e",
    "_uuid": "967c790b73f9dc93fb53592bb153be99bdda3e1e"
   },
   "outputs": [
    {
     "data": {
      "image/png": "[encoded data removed]",
      "text/plain": [
       "<matplotlib.figure.Figure at 0x7f9c6ffcdb00>"
      ]
     },
     "metadata": {},
     "output_type": "display_data"
    }
   ],
   "source": [
    "# Plot the least frequent landmark_ids\n",
    "plt.figure(figsize = (9, 8))\n",
    "plt.title('Least frequent landmarks')\n",
    "sns.set_color_codes(\"pastel\")\n",
    "sns.barplot(x=\"landmark_id\", y=\"count\", data=temp,\n",
    "            label=\"Count\")\n",
    "plt.show()"
   ]
  },
  {
   "cell_type": "markdown",
   "metadata": {
    "_cell_guid": "1a9e427f-c8f1-4032-bd3f-e0804cd941c4",
    "_uuid": "5eaf7f661352df6e174523216def4bec7c4caef9"
   },
   "source": [
    "## lets see unique URLs"
   ]
  },
  {
   "cell_type": "code",
   "execution_count": 19,
   "metadata": {
    "_cell_guid": "88f022f7-1956-40b6-8907-a069e5bd2e95",
    "_uuid": "e086d157bb84b4250828d5e351c8135187981448"
   },
   "outputs": [
    {
     "data": {
      "text/plain": [
       "id             1225029\n",
       "url            1225029\n",
       "landmark_id      14951\n",
       "dtype: int64"
      ]
     },
     "execution_count": 19,
     "metadata": {},
     "output_type": "execute_result"
    }
   ],
   "source": [
    "# Unique URL's\n",
    "train_data.nunique()"
   ]
  },
  {
   "cell_type": "code",
   "execution_count": 20,
   "metadata": {
    "_cell_guid": "b40ffb79-742b-47d6-9f07-36ed6939f913",
    "_uuid": "22b371df12b74be2dce17a2273109f4e1c5ed2e0"
   },
   "outputs": [
    {
     "data": {
      "image/png": "[encoded data removed]",
      "text/plain": [
       "<matplotlib.figure.Figure at 0x7f9c6fe54be0>"
      ]
     },
     "metadata": {},
     "output_type": "display_data"
    }
   ],
   "source": [
    "#Class distribution\n",
    "plt.figure(figsize = (10, 8))\n",
    "plt.title('Category Distribuition')\n",
    "sns.distplot(train_data['landmark_id'])\n",
    "\n",
    "plt.show()"
   ]
  },
  {
   "cell_type": "code",
   "execution_count": 21,
   "metadata": {
    "_cell_guid": "e5224959-3145-4f89-86d8-7a6db5d8bc40",
    "_uuid": "186edf66c19f2bb07cb9036944c9a5de804c1fad"
   },
   "outputs": [
    {
     "name": "stdout",
     "output_type": "stream",
     "text": [
      "Number of classes under 20 occurences 8797 out of total number of categories 14951\n"
     ]
    }
   ],
   "source": [
    "print(\"Number of classes under 20 occurences\",(train_data['landmark_id'].value_counts() <= 20).sum(),'out of total number of categories',len(train_data['landmark_id'].unique()))"
   ]
  },
  {
   "cell_type": "markdown",
   "metadata": {
    "_cell_guid": "d6af2db8-8fbc-4080-a1c5-dda29b64caf2",
    "_uuid": "a11f8d78585baa81584416f1ab72c1d48df8e28a"
   },
   "source": [
    "## Lets display some images from URLs / Some URLs Visulization "
   ]
  },
  {
   "cell_type": "code",
   "execution_count": 22,
   "metadata": {
    "_cell_guid": "9323388d-a12c-478d-a601-66cc200a326d",
    "_uuid": "30c923d0d743dfca12ccdf4630dfe5b47348ee8a",
    "collapsed": true
   },
   "outputs": [],
   "source": [
    "from IPython.display import Image\n",
    "from IPython.core.display import HTML \n",
    "\n",
    "def display_category(urls, category_name):\n",
    "    img_style = \"width: 180px; margin: 0px; float: left; border: 1px solid black;\"\n",
    "    images_list = ''.join([f\"<img style='{img_style}' src='{u}' />\" for _, u in urls.head(12).iteritems()])\n",
    "\n",
    "    display(HTML(images_list))"
   ]
  },
  {
   "cell_type": "code",
   "execution_count": 23,
   "metadata": {
    "_cell_guid": "f07d3d50-04d7-4d8f-a939-6aab01066b99",
    "_uuid": "cd321dcc961762d727a764f4343f3bc7d169ec38"
   },
   "outputs": [
    {
     "data": {
      "text/html": [
       "<img style='width: 180px; margin: 0px; float: left; border: 1px solid black;' src='https://lh4.googleusercontent.com/-tMoBJaphC34/R-ghJ_EcGCI/AAAAAAAABiw/Ug4rnSzaW-g/s1600/' /><img style='width: 180px; margin: 0px; float: left; border: 1px solid black;' src='https://lh6.googleusercontent.com/-fgwgYyYZiVI/S7pIknPBHGI/AAAAAAAABtk/7ZV3HOh3jmA/s0-d/' /><img style='width: 180px; margin: 0px; float: left; border: 1px solid black;' src='https://lh6.googleusercontent.com/-Kz7iu1q0zs0/SloIJ2I8AVI/AAAAAAAAEJI/akeGnMSqM0k/s1600/' /><img style='width: 180px; margin: 0px; float: left; border: 1px solid black;' src='https://lh3.googleusercontent.com/-dSBgHo2ZvPY/R4GHBn8fOiI/AAAAAAAAHAI/beiqbpFBdQ4/s1600/' /><img style='width: 180px; margin: 0px; float: left; border: 1px solid black;' src='https://lh5.googleusercontent.com/-Mww2sF21QPs/RyCsE0Od4oI/AAAAAAAAA8o/gx2LpETjz5M/s1600/' /><img style='width: 180px; margin: 0px; float: left; border: 1px solid black;' src='http://lh4.ggpht.com/-1IXX3I0zB6A/S0JZGuRv6WI/AAAAAAAAA3A/wsFERp7eh1o/s1600/' /><img style='width: 180px; margin: 0px; float: left; border: 1px solid black;' src='https://lh6.googleusercontent.com/-S-UYSsIZMtk/S82859J5K0I/AAAAAAAAGOI/xqlYZE7Hxjo/rj/' /><img style='width: 180px; margin: 0px; float: left; border: 1px solid black;' src='https://lh5.googleusercontent.com/-AXDnUkrpf7Q/TwWX933UM5I/AAAAAAABnq8/SusL3oTFjIo/s1600/' /><img style='width: 180px; margin: 0px; float: left; border: 1px solid black;' src='http://static.panoramio.com/photos/original/64791644.jpg' /><img style='width: 180px; margin: 0px; float: left; border: 1px solid black;' src='https://lh5.googleusercontent.com/-7aWoYnKB2gU/Sir7WDMKIOI/AAAAAAAAAQ8/hOfZSax6_po/s1600/' /><img style='width: 180px; margin: 0px; float: left; border: 1px solid black;' src='http://mw2.google.com/mw-panoramio/photos/medium/18574938.jpg' /><img style='width: 180px; margin: 0px; float: left; border: 1px solid black;' src='http://lh3.ggpht.com/-9OgKrbNHU58/TGId51pF54I/AAAAAAAABbc/ONEuQx2YPYE/s1600/' />"
      ],
      "text/plain": [
       "<IPython.core.display.HTML object>"
      ]
     },
     "metadata": {},
     "output_type": "display_data"
    }
   ],
   "source": [
    "category = train_data['landmark_id'].value_counts().keys()[0]\n",
    "urls = train_data[train_data['landmark_id'] == category]['url']\n",
    "display_category(urls, \"\")"
   ]
  },
  {
   "cell_type": "code",
   "execution_count": 24,
   "metadata": {
    "_cell_guid": "6f74e6bf-ce36-4abd-a971-19686ab1a90a",
    "_uuid": "d3e27fe9bf9c444809aa9827c60b4ac9c686e42e"
   },
   "outputs": [
    {
     "data": {
      "text/html": [
       "<img style='width: 180px; margin: 0px; float: left; border: 1px solid black;' src='http://lh3.ggpht.com/-KXyELwqwp_Q/Ry-qmQAqwUI/AAAAAAAAAoU/SUt6osy86xk/s1600/' /><img style='width: 180px; margin: 0px; float: left; border: 1px solid black;' src='http://lh3.ggpht.com/-GtgCG7ZNNDw/TWWRUVMMpUI/AAAAAAAAC00/AUNX8bd957w/s1600/' /><img style='width: 180px; margin: 0px; float: left; border: 1px solid black;' src='http://lh6.ggpht.com/-Xc0B_C_xpfc/RsIor9h8-SI/AAAAAAAABK0/d6gJYx06eKI/s1600/' /><img style='width: 180px; margin: 0px; float: left; border: 1px solid black;' src='https://lh3.googleusercontent.com/-r7w0c7chrC8/TKvJKIyP-yI/AAAAAAAAAbE/G1GYmt5t-bg/s1600/' /><img style='width: 180px; margin: 0px; float: left; border: 1px solid black;' src='https://lh6.googleusercontent.com/-WWD-eozFRkU/THaxcSSu-BI/AAAAAAAANfQ/T4H7_pXuo0A/s1600/' /><img style='width: 180px; margin: 0px; float: left; border: 1px solid black;' src='https://lh6.googleusercontent.com/-tS_G0hIy5ZM/UET8pv2HO-I/AAAAAAAACbg/aafiTJOLbHY/s1600/' /><img style='width: 180px; margin: 0px; float: left; border: 1px solid black;' src='https://lh3.googleusercontent.com/-KY-7GtTdyFA/TCoXGPxA43I/AAAAAAAADXM/0AGVLHttPLM/s1600/' /><img style='width: 180px; margin: 0px; float: left; border: 1px solid black;' src='http://lh4.ggpht.com/-iRvdpDyW0tY/Tf3VuockwVI/AAAAAAAAFg0/Wwe9BLrErws/s1600/' /><img style='width: 180px; margin: 0px; float: left; border: 1px solid black;' src='http://lh4.ggpht.com/-jEA3kfsNXaE/SZDM8CJHrOI/AAAAAAAAIyk/ZrUd2HScqBA/s1600/' /><img style='width: 180px; margin: 0px; float: left; border: 1px solid black;' src='http://lh6.ggpht.com/-aYkjNY6AI_E/SAoS68XMFDI/AAAAAAAABGM/akbenfEDB6k/s1600/' /><img style='width: 180px; margin: 0px; float: left; border: 1px solid black;' src='http://lh3.ggpht.com/-7rfq6AL-v_0/Rs6sR4sZNeI/AAAAAAAAEbs/Ef3tfEhUPwQ/s1600/' /><img style='width: 180px; margin: 0px; float: left; border: 1px solid black;' src='http://lh3.ggpht.com/-GfETo5WQYaI/Rk8uLlHxGrI/AAAAAAAAAWA/l7b4jA26-iI/s1600/' />"
      ],
      "text/plain": [
       "<IPython.core.display.HTML object>"
      ]
     },
     "metadata": {},
     "output_type": "display_data"
    }
   ],
   "source": [
    "category = train_data['landmark_id'].value_counts().keys()[1]\n",
    "urls = train_data[train_data['landmark_id'] == category]['url']\n",
    "display_category(urls, \"\")"
   ]
  },
  {
   "cell_type": "markdown",
   "metadata": {
    "_cell_guid": "9f9cdbb8-3a92-4a22-a839-2d931eb4adba",
    "_uuid": "f9dc533bf9065821bd53c48876814b1b5835ab4c",
    "collapsed": true
   },
   "source": [
    "# Now Lets extract the website name and see their occurances"
   ]
  },
  {
   "cell_type": "code",
   "execution_count": 25,
   "metadata": {
    "_cell_guid": "81a6b1b5-be0f-4512-b571-c4ff646b5d80",
    "_uuid": "7f02b63c37845e286bd557d5c74785bcd8581844",
    "collapsed": true
   },
   "outputs": [],
   "source": [
    "# Extract site_names for train data\n",
    "temp_list = list()\n",
    "for path in train_data['url']:\n",
    "    temp_list.append((path.split('//', 1)[1]).split('/', 1)[0])\n",
    "train_data['site_name'] = temp_list\n",
    "# Extract site_names for test data\n",
    "temp_list = list()\n",
    "for path in test_data['url']:\n",
    "    temp_list.append((path.split('//', 1)[1]).split('/', 1)[0])\n",
    "test_data['site_name'] = temp_list"
   ]
  },
  {
   "cell_type": "markdown",
   "metadata": {
    "_cell_guid": "6c866043-00da-479d-9437-4a31fbf8016d",
    "_uuid": "1404c55c6262c4c6c50705592cc986a43d4b0b63"
   },
   "source": [
    "### We have added one new column \"site_name\". lets see"
   ]
  },
  {
   "cell_type": "code",
   "execution_count": 26,
   "metadata": {
    "_cell_guid": "c3b67307-6ac0-46ee-9e0c-87fffd42e3ca",
    "_uuid": "ef1ca917bfcd06b154ea43fe53842f4ddbc32cad"
   },
   "outputs": [
    {
     "name": "stdout",
     "output_type": "stream",
     "text": [
      "Training data size (1225029, 4)\n",
      "test data size (117703, 3)\n"
     ]
    }
   ],
   "source": [
    "print(\"Training data size\",train_data.shape)\n",
    "print(\"test data size\",test_data.shape)"
   ]
  },
  {
   "cell_type": "code",
   "execution_count": 27,
   "metadata": {
    "_cell_guid": "b8585641-0181-4a6c-91d3-80a9c7102b50",
    "_uuid": "166482cdce5b8a24298547cbf9262693eff2a447"
   },
   "outputs": [
    {
     "data": {
      "text/html": [
       "<div>\n",
       "<style>\n",
       "    .dataframe thead tr:only-child th {\n",
       "        text-align: right;\n",
       "    }\n",
       "\n",
       "    .dataframe thead th {\n",
       "        text-align: left;\n",
       "    }\n",
       "\n",
       "    .dataframe tbody tr th {\n",
       "        vertical-align: top;\n",
       "    }\n",
       "</style>\n",
       "<table border=\"1\" class=\"dataframe\">\n",
       "  <thead>\n",
       "    <tr style=\"text-align: right;\">\n",
       "      <th></th>\n",
       "      <th>id</th>\n",
       "      <th>url</th>\n",
       "      <th>landmark_id</th>\n",
       "      <th>site_name</th>\n",
       "    </tr>\n",
       "  </thead>\n",
       "  <tbody>\n",
       "    <tr>\n",
       "      <th>0</th>\n",
       "      <td>cacf8152e2d2ae60</td>\n",
       "      <td>http://static.panoramio.com/photos/original/70...</td>\n",
       "      <td>4676</td>\n",
       "      <td>static.panoramio.com</td>\n",
       "    </tr>\n",
       "    <tr>\n",
       "      <th>1</th>\n",
       "      <td>0a58358a2afd3e4e</td>\n",
       "      <td>http://lh6.ggpht.com/-igpT6wu0mIA/ROV8HnUuABI/...</td>\n",
       "      <td>6651</td>\n",
       "      <td>lh6.ggpht.com</td>\n",
       "    </tr>\n",
       "    <tr>\n",
       "      <th>2</th>\n",
       "      <td>6b2bb500b6a38aa0</td>\n",
       "      <td>http://lh6.ggpht.com/-vKr5G5MEusk/SR6r6SJi6mI/...</td>\n",
       "      <td>11284</td>\n",
       "      <td>lh6.ggpht.com</td>\n",
       "    </tr>\n",
       "    <tr>\n",
       "      <th>3</th>\n",
       "      <td>b399f09dee9c3c67</td>\n",
       "      <td>https://lh3.googleusercontent.com/-LOW2cjAqubA...</td>\n",
       "      <td>8429</td>\n",
       "      <td>lh3.googleusercontent.com</td>\n",
       "    </tr>\n",
       "    <tr>\n",
       "      <th>4</th>\n",
       "      <td>19ace29d77a5be66</td>\n",
       "      <td>https://lh5.googleusercontent.com/-tnmSXwQcWL8...</td>\n",
       "      <td>6231</td>\n",
       "      <td>lh5.googleusercontent.com</td>\n",
       "    </tr>\n",
       "    <tr>\n",
       "      <th>5</th>\n",
       "      <td>2c9c54b62f0a6a37</td>\n",
       "      <td>https://lh5.googleusercontent.com/-mEaSECO7D-4...</td>\n",
       "      <td>10400</td>\n",
       "      <td>lh5.googleusercontent.com</td>\n",
       "    </tr>\n",
       "    <tr>\n",
       "      <th>6</th>\n",
       "      <td>0aac70a1de44ced6</td>\n",
       "      <td>http://lh6.ggpht.com/-cJMh9AYQGk8/SOkF_Q5PrjI/...</td>\n",
       "      <td>9779</td>\n",
       "      <td>lh6.ggpht.com</td>\n",
       "    </tr>\n",
       "    <tr>\n",
       "      <th>7</th>\n",
       "      <td>de770bc720f8e714</td>\n",
       "      <td>https://lh4.googleusercontent.com/-Q_FvRlwaaa8...</td>\n",
       "      <td>11288</td>\n",
       "      <td>lh4.googleusercontent.com</td>\n",
       "    </tr>\n",
       "  </tbody>\n",
       "</table>\n",
       "</div>"
      ],
      "text/plain": [
       "                 id                                                url  \\\n",
       "0  cacf8152e2d2ae60  http://static.panoramio.com/photos/original/70...   \n",
       "1  0a58358a2afd3e4e  http://lh6.ggpht.com/-igpT6wu0mIA/ROV8HnUuABI/...   \n",
       "2  6b2bb500b6a38aa0  http://lh6.ggpht.com/-vKr5G5MEusk/SR6r6SJi6mI/...   \n",
       "3  b399f09dee9c3c67  https://lh3.googleusercontent.com/-LOW2cjAqubA...   \n",
       "4  19ace29d77a5be66  https://lh5.googleusercontent.com/-tnmSXwQcWL8...   \n",
       "5  2c9c54b62f0a6a37  https://lh5.googleusercontent.com/-mEaSECO7D-4...   \n",
       "6  0aac70a1de44ced6  http://lh6.ggpht.com/-cJMh9AYQGk8/SOkF_Q5PrjI/...   \n",
       "7  de770bc720f8e714  https://lh4.googleusercontent.com/-Q_FvRlwaaa8...   \n",
       "\n",
       "   landmark_id                  site_name  \n",
       "0         4676       static.panoramio.com  \n",
       "1         6651              lh6.ggpht.com  \n",
       "2        11284              lh6.ggpht.com  \n",
       "3         8429  lh3.googleusercontent.com  \n",
       "4         6231  lh5.googleusercontent.com  \n",
       "5        10400  lh5.googleusercontent.com  \n",
       "6         9779              lh6.ggpht.com  \n",
       "7        11288  lh4.googleusercontent.com  "
      ]
     },
     "execution_count": 27,
     "metadata": {},
     "output_type": "execute_result"
    }
   ],
   "source": [
    "train_data.head(8)"
   ]
  },
  {
   "cell_type": "code",
   "execution_count": 28,
   "metadata": {
    "_cell_guid": "8972f215-2e48-43de-8122-0b3210ba30ea",
    "_uuid": "54312642d6814ce001466a2eb5d90ea4d54ced4b"
   },
   "outputs": [
    {
     "data": {
      "text/html": [
       "<div>\n",
       "<style>\n",
       "    .dataframe thead tr:only-child th {\n",
       "        text-align: right;\n",
       "    }\n",
       "\n",
       "    .dataframe thead th {\n",
       "        text-align: left;\n",
       "    }\n",
       "\n",
       "    .dataframe tbody tr th {\n",
       "        vertical-align: top;\n",
       "    }\n",
       "</style>\n",
       "<table border=\"1\" class=\"dataframe\">\n",
       "  <thead>\n",
       "    <tr style=\"text-align: right;\">\n",
       "      <th></th>\n",
       "      <th>id</th>\n",
       "      <th>url</th>\n",
       "      <th>site_name</th>\n",
       "    </tr>\n",
       "  </thead>\n",
       "  <tbody>\n",
       "    <tr>\n",
       "      <th>0</th>\n",
       "      <td>000088da12d664db</td>\n",
       "      <td>https://lh3.googleusercontent.com/-k45wfamuhT8...</td>\n",
       "      <td>lh3.googleusercontent.com</td>\n",
       "    </tr>\n",
       "    <tr>\n",
       "      <th>1</th>\n",
       "      <td>0001623c6d808702</td>\n",
       "      <td>https://lh3.googleusercontent.com/-OQ0ywv8KVIA...</td>\n",
       "      <td>lh3.googleusercontent.com</td>\n",
       "    </tr>\n",
       "    <tr>\n",
       "      <th>2</th>\n",
       "      <td>0001bbb682d45002</td>\n",
       "      <td>https://lh3.googleusercontent.com/-kloLenz1xZk...</td>\n",
       "      <td>lh3.googleusercontent.com</td>\n",
       "    </tr>\n",
       "    <tr>\n",
       "      <th>3</th>\n",
       "      <td>0002362830cfe3a3</td>\n",
       "      <td>https://lh3.googleusercontent.com/-N6z79jNZYTg...</td>\n",
       "      <td>lh3.googleusercontent.com</td>\n",
       "    </tr>\n",
       "    <tr>\n",
       "      <th>4</th>\n",
       "      <td>000270c9100de789</td>\n",
       "      <td>https://lh3.googleusercontent.com/-keriHaVOq1U...</td>\n",
       "      <td>lh3.googleusercontent.com</td>\n",
       "    </tr>\n",
       "  </tbody>\n",
       "</table>\n",
       "</div>"
      ],
      "text/plain": [
       "                 id                                                url  \\\n",
       "0  000088da12d664db  https://lh3.googleusercontent.com/-k45wfamuhT8...   \n",
       "1  0001623c6d808702  https://lh3.googleusercontent.com/-OQ0ywv8KVIA...   \n",
       "2  0001bbb682d45002  https://lh3.googleusercontent.com/-kloLenz1xZk...   \n",
       "3  0002362830cfe3a3  https://lh3.googleusercontent.com/-N6z79jNZYTg...   \n",
       "4  000270c9100de789  https://lh3.googleusercontent.com/-keriHaVOq1U...   \n",
       "\n",
       "                   site_name  \n",
       "0  lh3.googleusercontent.com  \n",
       "1  lh3.googleusercontent.com  \n",
       "2  lh3.googleusercontent.com  \n",
       "3  lh3.googleusercontent.com  \n",
       "4  lh3.googleusercontent.com  "
      ]
     },
     "execution_count": 28,
     "metadata": {},
     "output_type": "execute_result"
    }
   ],
   "source": [
    "test_data.head()"
   ]
  },
  {
   "cell_type": "markdown",
   "metadata": {
    "_cell_guid": "3aa5c9e3-df90-4615-a1e9-bf2313818ac5",
    "_uuid": "59ae5f36972b993449ccf895752c231fe5a6df28"
   },
   "source": [
    "## occurances of sites in train_data"
   ]
  },
  {
   "cell_type": "code",
   "execution_count": 29,
   "metadata": {
    "_cell_guid": "b4160d90-58e5-43e1-9439-7697f8a7de33",
    "_uuid": "e218e18820e00557e704c9328a457a9cd97f0d1e"
   },
   "outputs": [
    {
     "data": {
      "text/html": [
       "<div>\n",
       "<style>\n",
       "    .dataframe thead tr:only-child th {\n",
       "        text-align: right;\n",
       "    }\n",
       "\n",
       "    .dataframe thead th {\n",
       "        text-align: left;\n",
       "    }\n",
       "\n",
       "    .dataframe tbody tr th {\n",
       "        vertical-align: top;\n",
       "    }\n",
       "</style>\n",
       "<table border=\"1\" class=\"dataframe\">\n",
       "  <thead>\n",
       "    <tr style=\"text-align: right;\">\n",
       "      <th></th>\n",
       "      <th>site_name</th>\n",
       "      <th>count</th>\n",
       "    </tr>\n",
       "  </thead>\n",
       "  <tbody>\n",
       "    <tr>\n",
       "      <th>0</th>\n",
       "      <td>lh3.googleusercontent.com</td>\n",
       "      <td>182010</td>\n",
       "    </tr>\n",
       "    <tr>\n",
       "      <th>1</th>\n",
       "      <td>lh4.googleusercontent.com</td>\n",
       "      <td>177774</td>\n",
       "    </tr>\n",
       "    <tr>\n",
       "      <th>2</th>\n",
       "      <td>lh5.googleusercontent.com</td>\n",
       "      <td>175251</td>\n",
       "    </tr>\n",
       "    <tr>\n",
       "      <th>3</th>\n",
       "      <td>lh6.googleusercontent.com</td>\n",
       "      <td>171506</td>\n",
       "    </tr>\n",
       "    <tr>\n",
       "      <th>4</th>\n",
       "      <td>lh3.ggpht.com</td>\n",
       "      <td>105043</td>\n",
       "    </tr>\n",
       "    <tr>\n",
       "      <th>5</th>\n",
       "      <td>lh4.ggpht.com</td>\n",
       "      <td>102460</td>\n",
       "    </tr>\n",
       "    <tr>\n",
       "      <th>6</th>\n",
       "      <td>lh6.ggpht.com</td>\n",
       "      <td>102066</td>\n",
       "    </tr>\n",
       "    <tr>\n",
       "      <th>7</th>\n",
       "      <td>lh5.ggpht.com</td>\n",
       "      <td>100905</td>\n",
       "    </tr>\n",
       "    <tr>\n",
       "      <th>8</th>\n",
       "      <td>mw2.google.com</td>\n",
       "      <td>94947</td>\n",
       "    </tr>\n",
       "    <tr>\n",
       "      <th>9</th>\n",
       "      <td>static.panoramio.com</td>\n",
       "      <td>12468</td>\n",
       "    </tr>\n",
       "    <tr>\n",
       "      <th>10</th>\n",
       "      <td>commondatastorage.googleapis.com</td>\n",
       "      <td>591</td>\n",
       "    </tr>\n",
       "    <tr>\n",
       "      <th>11</th>\n",
       "      <td>1-ps.googleusercontent.com</td>\n",
       "      <td>3</td>\n",
       "    </tr>\n",
       "    <tr>\n",
       "      <th>12</th>\n",
       "      <td>0-focus-opensocial.googleusercontent.com</td>\n",
       "      <td>2</td>\n",
       "    </tr>\n",
       "    <tr>\n",
       "      <th>13</th>\n",
       "      <td>image.imagesexplore.info</td>\n",
       "      <td>1</td>\n",
       "    </tr>\n",
       "    <tr>\n",
       "      <th>14</th>\n",
       "      <td>r2.bru02t11.c.bigcache.googleapis.com</td>\n",
       "      <td>1</td>\n",
       "    </tr>\n",
       "    <tr>\n",
       "      <th>15</th>\n",
       "      <td>celebhot.hol.es</td>\n",
       "      <td>1</td>\n",
       "    </tr>\n",
       "  </tbody>\n",
       "</table>\n",
       "</div>"
      ],
      "text/plain": [
       "                                   site_name   count\n",
       "0                  lh3.googleusercontent.com  182010\n",
       "1                  lh4.googleusercontent.com  177774\n",
       "2                  lh5.googleusercontent.com  175251\n",
       "3                  lh6.googleusercontent.com  171506\n",
       "4                              lh3.ggpht.com  105043\n",
       "5                              lh4.ggpht.com  102460\n",
       "6                              lh6.ggpht.com  102066\n",
       "7                              lh5.ggpht.com  100905\n",
       "8                             mw2.google.com   94947\n",
       "9                       static.panoramio.com   12468\n",
       "10          commondatastorage.googleapis.com     591\n",
       "11                1-ps.googleusercontent.com       3\n",
       "12  0-focus-opensocial.googleusercontent.com       2\n",
       "13                  image.imagesexplore.info       1\n",
       "14     r2.bru02t11.c.bigcache.googleapis.com       1\n",
       "15                           celebhot.hol.es       1"
      ]
     },
     "execution_count": 29,
     "metadata": {},
     "output_type": "execute_result"
    }
   ],
   "source": [
    "# Occurance of site in decreasing order(Top categories)\n",
    "temp = pd.DataFrame(train_data.site_name.value_counts())\n",
    "temp.reset_index(inplace=True)\n",
    "temp.columns = ['site_name','count']\n",
    "temp"
   ]
  },
  {
   "cell_type": "markdown",
   "metadata": {
    "_cell_guid": "4a620c9a-79f7-4485-80d2-0a83e7905898",
    "_uuid": "2940ef89d4aa5ffd460dd19e8b556ae3523298c8"
   },
   "source": [
    "### As we can see there are total 16 unique sites."
   ]
  },
  {
   "cell_type": "code",
   "execution_count": 30,
   "metadata": {
    "_cell_guid": "ee3939b1-a064-4bcb-a284-9a2b5652c546",
    "_uuid": "ed6f30fbf43ce29fc6e39a2e3c3fd70029121f66"
   },
   "outputs": [
    {
     "data": {
      "image/png": "[encoded data removed]",
      "text/plain": [
       "<matplotlib.figure.Figure at 0x7f9c6ff47ba8>"
      ]
     },
     "metadata": {},
     "output_type": "display_data"
    }
   ],
   "source": [
    "# Plot the Sites with their count\n",
    "plt.figure(figsize = (9, 8))\n",
    "plt.title('Sites with their count')\n",
    "sns.set_color_codes(\"pastel\")\n",
    "sns.barplot(x=\"site_name\", y=\"count\", data=temp,\n",
    "            label=\"Count\")\n",
    "locs, labels = plt.xticks()\n",
    "plt.setp(labels, rotation=90)\n",
    "plt.show()"
   ]
  },
  {
   "cell_type": "markdown",
   "metadata": {
    "_cell_guid": "cc88aa1e-0359-435b-a26f-50f5bda5f826",
    "_uuid": "3d8f08bfa1cdc08511438a86249e89ce60829551"
   },
   "source": [
    "## occurances of sites in test_data"
   ]
  },
  {
   "cell_type": "code",
   "execution_count": 31,
   "metadata": {
    "_cell_guid": "da9ef7f5-809c-46de-982a-8c5c2c68a010",
    "_uuid": "a33054598818ba56342045c7e4dfe628ffc24306"
   },
   "outputs": [
    {
     "data": {
      "text/html": [
       "<div>\n",
       "<style>\n",
       "    .dataframe thead tr:only-child th {\n",
       "        text-align: right;\n",
       "    }\n",
       "\n",
       "    .dataframe thead th {\n",
       "        text-align: left;\n",
       "    }\n",
       "\n",
       "    .dataframe tbody tr th {\n",
       "        vertical-align: top;\n",
       "    }\n",
       "</style>\n",
       "<table border=\"1\" class=\"dataframe\">\n",
       "  <thead>\n",
       "    <tr style=\"text-align: right;\">\n",
       "      <th></th>\n",
       "      <th>site_name</th>\n",
       "      <th>count</th>\n",
       "    </tr>\n",
       "  </thead>\n",
       "  <tbody>\n",
       "    <tr>\n",
       "      <th>0</th>\n",
       "      <td>lh3.googleusercontent.com</td>\n",
       "      <td>116855</td>\n",
       "    </tr>\n",
       "    <tr>\n",
       "      <th>1</th>\n",
       "      <td>lh3.ggpht.com</td>\n",
       "      <td>166</td>\n",
       "    </tr>\n",
       "    <tr>\n",
       "      <th>2</th>\n",
       "      <td>lh5.ggpht.com</td>\n",
       "      <td>134</td>\n",
       "    </tr>\n",
       "    <tr>\n",
       "      <th>3</th>\n",
       "      <td>lh4.ggpht.com</td>\n",
       "      <td>123</td>\n",
       "    </tr>\n",
       "    <tr>\n",
       "      <th>4</th>\n",
       "      <td>images1-focus-opensocial.googleusercontent.com</td>\n",
       "      <td>102</td>\n",
       "    </tr>\n",
       "    <tr>\n",
       "      <th>5</th>\n",
       "      <td>lh6.ggpht.com</td>\n",
       "      <td>92</td>\n",
       "    </tr>\n",
       "    <tr>\n",
       "      <th>6</th>\n",
       "      <td>lh5.googleusercontent.com</td>\n",
       "      <td>80</td>\n",
       "    </tr>\n",
       "    <tr>\n",
       "      <th>7</th>\n",
       "      <td>lh4.googleusercontent.com</td>\n",
       "      <td>55</td>\n",
       "    </tr>\n",
       "    <tr>\n",
       "      <th>8</th>\n",
       "      <td>static.panoramio.com</td>\n",
       "      <td>47</td>\n",
       "    </tr>\n",
       "    <tr>\n",
       "      <th>9</th>\n",
       "      <td>lh6.googleusercontent.com</td>\n",
       "      <td>28</td>\n",
       "    </tr>\n",
       "    <tr>\n",
       "      <th>10</th>\n",
       "      <td>images2-focus-opensocial.googleusercontent.com</td>\n",
       "      <td>3</td>\n",
       "    </tr>\n",
       "    <tr>\n",
       "      <th>11</th>\n",
       "      <td>images-onepick-opensocial.googleusercontent.com</td>\n",
       "      <td>2</td>\n",
       "    </tr>\n",
       "    <tr>\n",
       "      <th>12</th>\n",
       "      <td>img02.rl0.ru</td>\n",
       "      <td>2</td>\n",
       "    </tr>\n",
       "    <tr>\n",
       "      <th>13</th>\n",
       "      <td>img01.rl0.ru</td>\n",
       "      <td>2</td>\n",
       "    </tr>\n",
       "    <tr>\n",
       "      <th>14</th>\n",
       "      <td>img06.rl0.ru</td>\n",
       "      <td>2</td>\n",
       "    </tr>\n",
       "    <tr>\n",
       "      <th>15</th>\n",
       "      <td>1.bp.blogspot.com</td>\n",
       "      <td>1</td>\n",
       "    </tr>\n",
       "    <tr>\n",
       "      <th>16</th>\n",
       "      <td>cdn.champbell.net</td>\n",
       "      <td>1</td>\n",
       "    </tr>\n",
       "    <tr>\n",
       "      <th>17</th>\n",
       "      <td>cdn.photogyps.com</td>\n",
       "      <td>1</td>\n",
       "    </tr>\n",
       "    <tr>\n",
       "      <th>18</th>\n",
       "      <td>a.disquscdn.com</td>\n",
       "      <td>1</td>\n",
       "    </tr>\n",
       "    <tr>\n",
       "      <th>19</th>\n",
       "      <td>jiu-jitsu-mo.ru</td>\n",
       "      <td>1</td>\n",
       "    </tr>\n",
       "    <tr>\n",
       "      <th>20</th>\n",
       "      <td>img08.rl0.ru</td>\n",
       "      <td>1</td>\n",
       "    </tr>\n",
       "    <tr>\n",
       "      <th>21</th>\n",
       "      <td>img09.rl0.ru</td>\n",
       "      <td>1</td>\n",
       "    </tr>\n",
       "    <tr>\n",
       "      <th>22</th>\n",
       "      <td>img07.rl0.ru</td>\n",
       "      <td>1</td>\n",
       "    </tr>\n",
       "    <tr>\n",
       "      <th>23</th>\n",
       "      <td>images-blogger-opensocial.googleusercontent.com</td>\n",
       "      <td>1</td>\n",
       "    </tr>\n",
       "    <tr>\n",
       "      <th>24</th>\n",
       "      <td>extreme.com.ua</td>\n",
       "      <td>1</td>\n",
       "    </tr>\n",
       "  </tbody>\n",
       "</table>\n",
       "</div>"
      ],
      "text/plain": [
       "                                          site_name   count\n",
       "0                         lh3.googleusercontent.com  116855\n",
       "1                                     lh3.ggpht.com     166\n",
       "2                                     lh5.ggpht.com     134\n",
       "3                                     lh4.ggpht.com     123\n",
       "4    images1-focus-opensocial.googleusercontent.com     102\n",
       "5                                     lh6.ggpht.com      92\n",
       "6                         lh5.googleusercontent.com      80\n",
       "7                         lh4.googleusercontent.com      55\n",
       "8                              static.panoramio.com      47\n",
       "9                         lh6.googleusercontent.com      28\n",
       "10   images2-focus-opensocial.googleusercontent.com       3\n",
       "11  images-onepick-opensocial.googleusercontent.com       2\n",
       "12                                     img02.rl0.ru       2\n",
       "13                                     img01.rl0.ru       2\n",
       "14                                     img06.rl0.ru       2\n",
       "15                                1.bp.blogspot.com       1\n",
       "16                                cdn.champbell.net       1\n",
       "17                                cdn.photogyps.com       1\n",
       "18                                  a.disquscdn.com       1\n",
       "19                                  jiu-jitsu-mo.ru       1\n",
       "20                                     img08.rl0.ru       1\n",
       "21                                     img09.rl0.ru       1\n",
       "22                                     img07.rl0.ru       1\n",
       "23  images-blogger-opensocial.googleusercontent.com       1\n",
       "24                                   extreme.com.ua       1"
      ]
     },
     "execution_count": 31,
     "metadata": {},
     "output_type": "execute_result"
    }
   ],
   "source": [
    "# Occurance of site in decreasing order(Top categories)\n",
    "temp = pd.DataFrame(test_data.site_name.value_counts())\n",
    "temp.reset_index(inplace=True)\n",
    "temp.columns = ['site_name','count']\n",
    "temp"
   ]
  },
  {
   "cell_type": "markdown",
   "metadata": {
    "_cell_guid": "7ef91c93-bb78-4877-815e-f93a042da52a",
    "_uuid": "31563e163eadc8e50ebd87d198a60edfe0e95575"
   },
   "source": [
    "### Total unique sites are 25 in test data and some are different from train_data\n"
   ]
  },
  {
   "cell_type": "code",
   "execution_count": 32,
   "metadata": {
    "_cell_guid": "6629fb2d-1c39-454c-b4ec-59d80df67ea5",
    "_uuid": "4a4bb792d3a1820504f54ca92c7cc7c316dcf880"
   },
   "outputs": [
    {
     "data": {
      "image/png": "[encoded data removed]",
      "text/plain": [
       "<matplotlib.figure.Figure at 0x7f9c6ffd7198>"
      ]
     },
     "metadata": {},
     "output_type": "display_data"
    }
   ],
   "source": [
    "# Plot the Sites with their count\n",
    "plt.figure(figsize = (9, 8))\n",
    "plt.title('Sites with their count')\n",
    "sns.set_color_codes(\"pastel\")\n",
    "sns.barplot(x=\"site_name\", y=\"count\", data=temp,\n",
    "            label=\"Count\")\n",
    "locs, labels = plt.xticks()\n",
    "plt.setp(labels, rotation=90)\n",
    "plt.show()"
   ]
  },
  {
   "cell_type": "markdown",
   "metadata": {
    "_cell_guid": "fbd65712-e3e1-4710-bb41-24ade6cfc95e",
    "_uuid": "344ec1c432b87b5dee686c92aedcc65ac0a589b1",
    "collapsed": true
   },
   "source": [
    "### As we can see that most of the images are taken from one site only."
   ]
  },
  {
   "cell_type": "markdown",
   "metadata": {
    "_cell_guid": "876386f5-2e33-4375-a192-37ec8f7d1f3c",
    "_uuid": "e0d42d97a40d991fa89b25b82298ddf6a81ad1af",
    "collapsed": true
   },
   "source": [
    "##### Referances :\n",
    " * https://www.kaggle.com/mxdbld/yadv-simple-exploration-of-google-recognition \n",
    " * https://www.kaggle.com/gpreda/google-landmark-recognition-challenge-eda"
   ]
  },
  {
   "cell_type": "code",
   "execution_count": null,
   "metadata": {
    "_cell_guid": "fc78926f-373c-4353-b622-ab1085726dbc",
    "_uuid": "2d475f1033c9c8744046ef695ec5d49b8001b0de",
    "collapsed": true
   },
   "outputs": [],
   "source": []
  }
 ],
 "metadata": {
  "kernelspec": {
   "display_name": "Python 3",
   "language": "python",
   "name": "python3"
  },
  "language_info": {
   "codemirror_mode": {
    "name": "ipython",
    "version": 3
   },
   "file_extension": ".py",
   "mimetype": "text/x-python",
   "name": "python",
   "nbconvert_exporter": "python",
   "pygments_lexer": "ipython3",
   "version": "3.6.3"
  }
 },
 "nbformat": 4,
 "nbformat_minor": 1
}
