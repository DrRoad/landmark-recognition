{
 "cells": [
  {
   "cell_type": "code",
   "execution_count": 25,
   "metadata": {},
   "outputs": [],
   "source": [
    "%%capture cap\n",
    "import datetime\n",
    "import os\n",
    "rootdir = './tf_files/test_images/'\n",
    "now = str(datetime.datetime.now())\n",
    "for subdir, dirs, files in os.walk(rootdir):\n",
    "    for index, file in enumerate(files):\n",
    "        #print os.path.join(subdir, file)\n",
    "        filepath = subdir + os.sep + file\n",
    "\n",
    "        if filepath.endswith(\".jpg\"):\n",
    "            filepath = filepath[2:]\n",
    "            %run scripts/label_image \\\n",
    "                --graph=tf_files/retrained_graph.pb  \\\n",
    "                --image=\"$filepath\"\n",
    "            print(str(datetime.datetime.now()) + ': '+  str(index) + '/' + str(len(files)))\n",
    "        if index == 15:\n",
    "          break\n",
    "        \n",
    "with open('log_' + now + '.txt', 'a') as f:\n",
    "    f.write(cap.stdout)\n",
    "            #print(filepath)"
   ]
  }
 ],
 "metadata": {
  "kernelspec": {
   "display_name": "Python 3",
   "language": "python",
   "name": "python3"
  },
  "language_info": {
   "codemirror_mode": {
    "name": "ipython",
    "version": 3
   },
   "file_extension": ".py",
   "mimetype": "text/x-python",
   "name": "python",
   "nbconvert_exporter": "python",
   "pygments_lexer": "ipython3",
   "version": "3.6.3"
  }
 },
 "nbformat": 4,
 "nbformat_minor": 2
}
