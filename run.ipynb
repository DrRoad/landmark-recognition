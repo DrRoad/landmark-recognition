{
 "cells": [
  {
   "cell_type": "code",
   "execution_count": 20,
   "metadata": {},
   "outputs": [
    {
     "name": "stdout",
     "output_type": "stream",
     "text": [
      "\n",
      "Evaluation time (1-image): 0.249s\n",
      "\n",
      "9633 0.96265054\n",
      "6599 0.026137935\n",
      "6051 0.011211561\n",
      "0/500\n",
      "\n",
      "Evaluation time (1-image): 0.249s\n",
      "\n",
      "6599 0.978741\n",
      "9633 0.021209935\n",
      "6051 4.9147955e-05\n",
      "0/500\n",
      "\n",
      "Evaluation time (1-image): 0.425s\n",
      "\n",
      "9633 0.93409973\n",
      "6051 0.05862857\n",
      "6599 0.007271741\n",
      "1/500\n"
     ]
    }
   ],
   "source": [
    "import os\n",
    "i = 0\n",
    "rootdir = './tf_files/test_images/'\n",
    "\n",
    "for subdir, dirs, files in os.walk(rootdir):\n",
    "    for file in files:\n",
    "        #print os.path.join(subdir, file)\n",
    "        filepath = subdir + os.sep + file\n",
    "\n",
    "        if filepath.endswith(\".jpg\"):\n",
    "            filepath = filepath[2:]\n",
    "            %run scripts/label_image \\\n",
    "                --graph=tf_files/retrained_graph.pb  \\\n",
    "                --image=\"$filepath\"\n",
    "            print(str(i) + '/' + str(len(files)))\n",
    "            i += 1\n",
    "        if i == 2:\n",
    "          break\n",
    "            #print(filepath)"
   ]
  }
 ],
 "metadata": {
  "kernelspec": {
   "display_name": "Python 3",
   "language": "python",
   "name": "python3"
  },
  "language_info": {
   "codemirror_mode": {
    "name": "ipython",
    "version": 3
   },
   "file_extension": ".py",
   "mimetype": "text/x-python",
   "name": "python",
   "nbconvert_exporter": "python",
   "pygments_lexer": "ipython3",
   "version": "3.6.3"
  }
 },
 "nbformat": 4,
 "nbformat_minor": 2
}
